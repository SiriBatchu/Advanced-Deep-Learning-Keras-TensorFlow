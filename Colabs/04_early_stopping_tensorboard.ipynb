{
  "nbformat": 4,
  "nbformat_minor": 0,
  "metadata": {
    "colab": {
      "provenance": []
    },
    "kernelspec": {
      "name": "python3",
      "display_name": "Python 3"
    },
    "language_info": {
      "name": "python"
    }
  },
  "cells": [
    {
      "cell_type": "code",
      "execution_count": null,
      "metadata": {
        "colab": {
          "base_uri": "https://localhost:8080/"
        },
        "id": "waUoX2StLDwQ",
        "outputId": "e00bfc5f-35ac-42b0-b4e4-eff752122a29"
      },
      "outputs": [
        {
          "output_type": "stream",
          "name": "stdout",
          "text": [
            "Downloading data from https://storage.googleapis.com/tensorflow/tf-keras-datasets/mnist.npz\n",
            "\u001b[1m11490434/11490434\u001b[0m \u001b[32m━━━━━━━━━━━━━━━━━━━━\u001b[0m\u001b[37m\u001b[0m \u001b[1m0s\u001b[0m 0us/step\n"
          ]
        },
        {
          "output_type": "stream",
          "name": "stderr",
          "text": [
            "/usr/local/lib/python3.11/dist-packages/keras/src/layers/core/dense.py:87: UserWarning: Do not pass an `input_shape`/`input_dim` argument to a layer. When using Sequential models, prefer using an `Input(shape)` object as the first layer in the model instead.\n",
            "  super().__init__(activity_regularizer=activity_regularizer, **kwargs)\n"
          ]
        },
        {
          "output_type": "stream",
          "name": "stdout",
          "text": [
            "Epoch 1/50\n",
            "\u001b[1m375/375\u001b[0m \u001b[32m━━━━━━━━━━━━━━━━━━━━\u001b[0m\u001b[37m\u001b[0m \u001b[1m11s\u001b[0m 22ms/step - accuracy: 0.8443 - loss: 0.5528 - val_accuracy: 0.9549 - val_loss: 0.1526\n",
            "Epoch 2/50\n",
            "\u001b[1m375/375\u001b[0m \u001b[32m━━━━━━━━━━━━━━━━━━━━\u001b[0m\u001b[37m\u001b[0m \u001b[1m6s\u001b[0m 16ms/step - accuracy: 0.9621 - loss: 0.1290 - val_accuracy: 0.9668 - val_loss: 0.1118\n",
            "Epoch 3/50\n",
            "\u001b[1m375/375\u001b[0m \u001b[32m━━━━━━━━━━━━━━━━━━━━\u001b[0m\u001b[37m\u001b[0m \u001b[1m7s\u001b[0m 19ms/step - accuracy: 0.9774 - loss: 0.0784 - val_accuracy: 0.9728 - val_loss: 0.0921\n",
            "Epoch 4/50\n",
            "\u001b[1m375/375\u001b[0m \u001b[32m━━━━━━━━━━━━━━━━━━━━\u001b[0m\u001b[37m\u001b[0m \u001b[1m6s\u001b[0m 17ms/step - accuracy: 0.9840 - loss: 0.0538 - val_accuracy: 0.9696 - val_loss: 0.1008\n",
            "Epoch 5/50\n",
            "\u001b[1m375/375\u001b[0m \u001b[32m━━━━━━━━━━━━━━━━━━━━\u001b[0m\u001b[37m\u001b[0m \u001b[1m10s\u001b[0m 17ms/step - accuracy: 0.9881 - loss: 0.0398 - val_accuracy: 0.9764 - val_loss: 0.0819\n",
            "Epoch 6/50\n",
            "\u001b[1m375/375\u001b[0m \u001b[32m━━━━━━━━━━━━━━━━━━━━\u001b[0m\u001b[37m\u001b[0m \u001b[1m6s\u001b[0m 15ms/step - accuracy: 0.9912 - loss: 0.0278 - val_accuracy: 0.9718 - val_loss: 0.1039\n",
            "Epoch 7/50\n",
            "\u001b[1m375/375\u001b[0m \u001b[32m━━━━━━━━━━━━━━━━━━━━\u001b[0m\u001b[37m\u001b[0m \u001b[1m11s\u001b[0m 16ms/step - accuracy: 0.9930 - loss: 0.0248 - val_accuracy: 0.9685 - val_loss: 0.1112\n",
            "Epoch 8/50\n",
            "\u001b[1m375/375\u001b[0m \u001b[32m━━━━━━━━━━━━━━━━━━━━\u001b[0m\u001b[37m\u001b[0m \u001b[1m4s\u001b[0m 10ms/step - accuracy: 0.9938 - loss: 0.0196 - val_accuracy: 0.9766 - val_loss: 0.0864\n",
            "Test Accuracy: 0.9771\n"
          ]
        }
      ],
      "source": [
        "# 04_early_stopping_tensorboard.ipynb\n",
        "\n",
        "# 📌 Objective: Demonstrate early stopping and visualize training using TensorBoard\n",
        "\n",
        "import tensorflow as tf\n",
        "from tensorflow import keras\n",
        "from tensorflow.keras import layers, callbacks\n",
        "import datetime\n",
        "import os\n",
        "\n",
        "# ✅ Load and preprocess data\n",
        "(x_train, y_train), (x_test, y_test) = keras.datasets.mnist.load_data()\n",
        "x_train, x_test = x_train / 255.0, x_test / 255.0\n",
        "x_train = x_train.reshape(-1, 784)\n",
        "x_test = x_test.reshape(-1, 784)\n",
        "\n",
        "# ✅ Define model\n",
        "def build_model():\n",
        "    model = keras.Sequential([\n",
        "        layers.Dense(256, activation='relu', input_shape=(784,)),\n",
        "        layers.Dense(128, activation='relu'),\n",
        "        layers.Dense(10, activation='softmax')\n",
        "    ])\n",
        "    model.compile(optimizer='adam',\n",
        "                  loss='sparse_categorical_crossentropy',\n",
        "                  metrics=['accuracy'])\n",
        "    return model\n",
        "\n",
        "model = build_model()\n",
        "\n",
        "# ✅ Setup TensorBoard logging directory\n",
        "log_dir = os.path.join(\"logs\", \"fit\", datetime.datetime.now().strftime(\"%Y%m%d-%H%M%S\"))\n",
        "tensorboard_cb = callbacks.TensorBoard(log_dir=log_dir, histogram_freq=1)\n",
        "\n",
        "# ✅ Configure EarlyStopping\n",
        "earlystop_cb = callbacks.EarlyStopping(monitor='val_loss', patience=3, restore_best_weights=True)\n",
        "\n",
        "# ✅ Train model with callbacks\n",
        "history = model.fit(\n",
        "    x_train, y_train,\n",
        "    epochs=50,\n",
        "    batch_size=128,\n",
        "    validation_split=0.2,\n",
        "    callbacks=[tensorboard_cb, earlystop_cb],\n",
        "    verbose=1\n",
        ")\n",
        "\n",
        "# ✅ Evaluate the model\n",
        "test_loss, test_acc = model.evaluate(x_test, y_test, verbose=0)\n",
        "print(f\"Test Accuracy: {test_acc:.4f}\")\n",
        "\n",
        "# 📊 Launch TensorBoard (for Colab)\n",
        "# Uncomment below line in Colab:\n",
        "# %tensorboard --logdir logs/fit"
      ]
    }
  ]
}